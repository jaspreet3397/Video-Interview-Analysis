{
  "nbformat": 4,
  "nbformat_minor": 0,
  "metadata": {
    "colab": {
      "name": "Emotion_Recognition_Model.ipynb",
      "provenance": [],
      "collapsed_sections": [],
      "toc_visible": true
    },
    "kernelspec": {
      "name": "python3",
      "display_name": "Python 3"
    },
    "accelerator": "GPU"
  },
  "cells": [
    {
      "cell_type": "markdown",
      "metadata": {
        "id": "fCv0Sufk2Wwt",
        "colab_type": "text"
      },
      "source": [
        "# Face Recognition Model Construction"
      ]
    },
    {
      "cell_type": "markdown",
      "metadata": {
        "id": "AAoRuR5_xGWb",
        "colab_type": "text"
      },
      "source": [
        "## Importing Libraries"
      ]
    },
    {
      "cell_type": "code",
      "metadata": {
        "id": "iAcMh1GgS_mR",
        "colab_type": "code",
        "colab": {}
      },
      "source": [
        "import tensorflow as tf\n",
        "\n",
        "import pandas as pd\n",
        "import numpy as np\n",
        "import matplotlib.pyplot as plt\n",
        "\n",
        "import keras\n",
        "from keras.models import Sequential\n",
        "from keras.layers import Conv2D, MaxPooling2D\n",
        "from keras.layers import Dense, Dropout, Flatten\n",
        "\n",
        "from keras.utils import np_utils\n",
        "from keras.losses import categorical_crossentropy\n",
        "from keras.optimizers import Adam\n",
        "from keras.layers.normalization import BatchNormalization"
      ],
      "execution_count": null,
      "outputs": []
    },
    {
      "cell_type": "markdown",
      "metadata": {
        "id": "u1NDwH7jFBxi",
        "colab_type": "text"
      },
      "source": [
        "Reading fer2013 dataset using pandas."
      ]
    },
    {
      "cell_type": "code",
      "metadata": {
        "id": "CkCl-EiQMI7v",
        "colab_type": "code",
        "colab": {}
      },
      "source": [
        "df = pd.read_csv('/content/drive/My Drive/fer2013.csv')"
      ],
      "execution_count": null,
      "outputs": []
    },
    {
      "cell_type": "code",
      "metadata": {
        "id": "vD-q12QjMS73",
        "colab_type": "code",
        "colab": {
          "base_uri": "https://localhost:8080/",
          "height": 142
        },
        "outputId": "66f745cc-9ce5-4e29-accc-ed034cdd205d"
      },
      "source": [
        "# Lets look at the top 3 rows\n",
        "df.head(3)"
      ],
      "execution_count": null,
      "outputs": [
        {
          "output_type": "execute_result",
          "data": {
            "text/html": [
              "<div>\n",
              "<style scoped>\n",
              "    .dataframe tbody tr th:only-of-type {\n",
              "        vertical-align: middle;\n",
              "    }\n",
              "\n",
              "    .dataframe tbody tr th {\n",
              "        vertical-align: top;\n",
              "    }\n",
              "\n",
              "    .dataframe thead th {\n",
              "        text-align: right;\n",
              "    }\n",
              "</style>\n",
              "<table border=\"1\" class=\"dataframe\">\n",
              "  <thead>\n",
              "    <tr style=\"text-align: right;\">\n",
              "      <th></th>\n",
              "      <th>emotion</th>\n",
              "      <th>pixels</th>\n",
              "      <th>Usage</th>\n",
              "    </tr>\n",
              "  </thead>\n",
              "  <tbody>\n",
              "    <tr>\n",
              "      <th>0</th>\n",
              "      <td>0</td>\n",
              "      <td>70 80 82 72 58 58 60 63 54 58 60 48 89 115 121...</td>\n",
              "      <td>Training</td>\n",
              "    </tr>\n",
              "    <tr>\n",
              "      <th>1</th>\n",
              "      <td>0</td>\n",
              "      <td>151 150 147 155 148 133 111 140 170 174 182 15...</td>\n",
              "      <td>Training</td>\n",
              "    </tr>\n",
              "    <tr>\n",
              "      <th>2</th>\n",
              "      <td>2</td>\n",
              "      <td>231 212 156 164 174 138 161 173 182 200 106 38...</td>\n",
              "      <td>Training</td>\n",
              "    </tr>\n",
              "  </tbody>\n",
              "</table>\n",
              "</div>"
            ],
            "text/plain": [
              "   emotion                                             pixels     Usage\n",
              "0        0  70 80 82 72 58 58 60 63 54 58 60 48 89 115 121...  Training\n",
              "1        0  151 150 147 155 148 133 111 140 170 174 182 15...  Training\n",
              "2        2  231 212 156 164 174 138 161 173 182 200 106 38...  Training"
            ]
          },
          "metadata": {
            "tags": []
          },
          "execution_count": 20
        }
      ]
    },
    {
      "cell_type": "markdown",
      "metadata": {
        "id": "TsAE81FoOc3n",
        "colab_type": "text"
      },
      "source": [
        "Creating empty lists."
      ]
    },
    {
      "cell_type": "code",
      "metadata": {
        "id": "BY77p0sfUO7I",
        "colab_type": "code",
        "colab": {}
      },
      "source": [
        "train_images = []\n",
        "train_labels = []\n",
        "test_images = []\n",
        "test_labels= []\n",
        "val_images = []\n",
        "val_labels = []"
      ],
      "execution_count": null,
      "outputs": []
    },
    {
      "cell_type": "markdown",
      "metadata": {
        "id": "ONQkZxD2OeG2",
        "colab_type": "text"
      },
      "source": [
        "Splitting data in train, test and validation sets."
      ]
    },
    {
      "cell_type": "code",
      "metadata": {
        "id": "KgrpIErxSfYs",
        "colab_type": "code",
        "colab": {}
      },
      "source": [
        "for i, row in df.iterrows():\n",
        "  pixels = row['pixels'].split(\" \")\n",
        "  if(row.Usage == \"Training\"):\n",
        "    train_images.append(np.array(pixels, 'float32'))\n",
        "    train_labels.append(row.emotion)\n",
        "  if(row.Usage == \"PublicTest\"):\n",
        "    test_images.append(np.array(pixels, 'float32'))\n",
        "    test_labels.append(row.emotion)\n",
        "  if(row.Usage == \"PrivateTest\"):\n",
        "    val_images.append(np.array(pixels, 'float32'))\n",
        "    val_labels.append(row.emotion)"
      ],
      "execution_count": null,
      "outputs": []
    },
    {
      "cell_type": "markdown",
      "metadata": {
        "id": "DtD7wRTPOwZp",
        "colab_type": "text"
      },
      "source": [
        "Lets look at no of instances in each set."
      ]
    },
    {
      "cell_type": "code",
      "metadata": {
        "id": "r2KDz9LVUxaI",
        "colab_type": "code",
        "colab": {
          "base_uri": "https://localhost:8080/",
          "height": 34
        },
        "outputId": "1fa04c44-5c95-4ec9-a65b-5ba78511a066"
      },
      "source": [
        "print(len(train_images))"
      ],
      "execution_count": null,
      "outputs": [
        {
          "output_type": "stream",
          "text": [
            "28709\n"
          ],
          "name": "stdout"
        }
      ]
    },
    {
      "cell_type": "code",
      "metadata": {
        "id": "QZRBnUOJU_9G",
        "colab_type": "code",
        "colab": {
          "base_uri": "https://localhost:8080/",
          "height": 34
        },
        "outputId": "8b768cd8-3127-4a90-8bb0-afe8b500a667"
      },
      "source": [
        "print(len(test_images))"
      ],
      "execution_count": null,
      "outputs": [
        {
          "output_type": "stream",
          "text": [
            "3589\n"
          ],
          "name": "stdout"
        }
      ]
    },
    {
      "cell_type": "code",
      "metadata": {
        "id": "crrkufBxVV8v",
        "colab_type": "code",
        "colab": {
          "base_uri": "https://localhost:8080/",
          "height": 34
        },
        "outputId": "beabfdfb-6b61-4e48-9e98-7ac06b0b0d4f"
      },
      "source": [
        "print(len(val_images))"
      ],
      "execution_count": null,
      "outputs": [
        {
          "output_type": "stream",
          "text": [
            "3589\n"
          ],
          "name": "stdout"
        }
      ]
    },
    {
      "cell_type": "code",
      "metadata": {
        "id": "uVcowCeQWPhQ",
        "colab_type": "code",
        "colab": {
          "base_uri": "https://localhost:8080/",
          "height": 34
        },
        "outputId": "4f9d38ca-6434-4f3b-df73-ba646ead5613"
      },
      "source": [
        "type(train_images)"
      ],
      "execution_count": null,
      "outputs": [
        {
          "output_type": "execute_result",
          "data": {
            "text/plain": [
              "list"
            ]
          },
          "metadata": {
            "tags": []
          },
          "execution_count": 26
        }
      ]
    },
    {
      "cell_type": "markdown",
      "metadata": {
        "id": "d9Zrq3D8Oz5p",
        "colab_type": "text"
      },
      "source": [
        "We need to convert the lists to numpy array float32 type."
      ]
    },
    {
      "cell_type": "code",
      "metadata": {
        "id": "Raxgtz0eV8Rr",
        "colab_type": "code",
        "colab": {}
      },
      "source": [
        "train_images = np.array(train_images, 'float32')\n",
        "train_labels = np.array(train_labels, 'float32')\n",
        "test_images = np.array(test_images, 'float32')\n",
        "test_labels = np.array(test_labels, 'float32')\n",
        "val_images = np.array(val_images, 'float32')\n",
        "val_labels = np.array(val_labels, 'float32')"
      ],
      "execution_count": null,
      "outputs": []
    },
    {
      "cell_type": "code",
      "metadata": {
        "id": "y3oAIi6vWSSc",
        "colab_type": "code",
        "colab": {
          "base_uri": "https://localhost:8080/",
          "height": 34
        },
        "outputId": "1a3b140e-fd2f-4316-fd53-982822c52787"
      },
      "source": [
        "type(train_images)"
      ],
      "execution_count": null,
      "outputs": [
        {
          "output_type": "execute_result",
          "data": {
            "text/plain": [
              "numpy.ndarray"
            ]
          },
          "metadata": {
            "tags": []
          },
          "execution_count": 28
        }
      ]
    },
    {
      "cell_type": "markdown",
      "metadata": {
        "id": "W3zswD8Fi8OW",
        "colab_type": "text"
      },
      "source": [
        "Emotion labels"
      ]
    },
    {
      "cell_type": "code",
      "metadata": {
        "id": "H0SMQRs6M0A_",
        "colab_type": "code",
        "colab": {}
      },
      "source": [
        "emotions = [\"Angry\", \"Disgust\", \"Fear\", \"Happy\", \"Sad\", \"Surprise\", \"Neutral\"]"
      ],
      "execution_count": null,
      "outputs": []
    },
    {
      "cell_type": "code",
      "metadata": {
        "id": "8D_YuUV3Wwb3",
        "colab_type": "code",
        "colab": {}
      },
      "source": [
        "train_labels = np_utils.to_categorical(train_labels, num_classes=7)\n",
        "test_labels = np_utils.to_categorical(test_labels, num_classes=7)\n",
        "val_labels = np_utils.to_categorical(val_labels, num_classes=7)"
      ],
      "execution_count": null,
      "outputs": []
    },
    {
      "cell_type": "code",
      "metadata": {
        "id": "9un-fa5HXUFH",
        "colab_type": "code",
        "colab": {
          "base_uri": "https://localhost:8080/",
          "height": 34
        },
        "outputId": "c8829ef3-82a6-476b-f1a9-c0bfddc2a48f"
      },
      "source": [
        "train_images[0].shape"
      ],
      "execution_count": null,
      "outputs": [
        {
          "output_type": "execute_result",
          "data": {
            "text/plain": [
              "(2304,)"
            ]
          },
          "metadata": {
            "tags": []
          },
          "execution_count": 31
        }
      ]
    },
    {
      "cell_type": "markdown",
      "metadata": {
        "id": "8XEAmDu-jDit",
        "colab_type": "text"
      },
      "source": [
        "Scalling and reshaping all three sets."
      ]
    },
    {
      "cell_type": "code",
      "metadata": {
        "id": "Y7gcGdfGm7la",
        "colab_type": "code",
        "colab": {}
      },
      "source": [
        "train_images = train_images/255\n",
        "test_images = test_images/255\n",
        "val_images = val_images/255\n",
        "train_images = train_images.reshape((28709, 48 , 48, 1))\n",
        "test_images = test_images.reshape((3589, 48 , 48, 1))\n",
        "val_images = val_images.reshape((3589, 48 , 48, 1))"
      ],
      "execution_count": null,
      "outputs": []
    },
    {
      "cell_type": "code",
      "metadata": {
        "id": "UujTiDLzn91P",
        "colab_type": "code",
        "colab": {
          "base_uri": "https://localhost:8080/",
          "height": 34
        },
        "outputId": "abb96f89-d0d8-446d-c9e7-64aa3e236b0e"
      },
      "source": [
        "train_images.shape[1:]"
      ],
      "execution_count": null,
      "outputs": [
        {
          "output_type": "execute_result",
          "data": {
            "text/plain": [
              "(48, 48, 1)"
            ]
          },
          "metadata": {
            "tags": []
          },
          "execution_count": 37
        }
      ]
    },
    {
      "cell_type": "markdown",
      "metadata": {
        "id": "V2E9Ap1ijeYX",
        "colab_type": "text"
      },
      "source": [
        "Creating CNN Model"
      ]
    },
    {
      "cell_type": "code",
      "metadata": {
        "id": "usheQbHfXXQB",
        "colab_type": "code",
        "colab": {}
      },
      "source": [
        "model = Sequential()\n",
        "\n",
        "# Layer 1\n",
        "model.add(Conv2D(64, kernel_size=(3, 3), activation='relu', input_shape=(48, 48, 1)))\n",
        "model.add(BatchNormalization())\n",
        "model.add(Conv2D(64, kernel_size= (3, 3), activation='relu'))\n",
        "model.add(BatchNormalization())\n",
        "model.add(MaxPooling2D(pool_size=(2,2), strides=(2, 2)))\n",
        "model.add(Dropout(0.3))\n",
        "\n",
        "# Layer 2\n",
        "model.add(Conv2D(128, kernel_size= (3, 3), activation='relu'))\n",
        "model.add(BatchNormalization())\n",
        "model.add(Conv2D(128, kernel_size= (3, 3), activation='relu'))\n",
        "model.add(BatchNormalization())\n",
        "model.add(MaxPooling2D(pool_size=(2,2), strides=(2, 2)))\n",
        "model.add(Dropout(0.3))\n",
        "\n",
        "# Layer 3\n",
        "model.add(Conv2D(256, kernel_size= (3, 3), activation='relu'))\n",
        "model.add(BatchNormalization())\n",
        "model.add(Conv2D(256, kernel_size= (3, 3), activation='relu'))\n",
        "model.add(BatchNormalization())\n",
        "model.add(MaxPooling2D(pool_size=(2,2), strides=(2, 2)))\n",
        "model.add(Dropout(0.3))\n",
        "\n",
        "#\n",
        "model.add(Flatten())\n",
        "\n",
        "model.add(Dense(512, activation='relu'))\n",
        "model.add(Dropout(0.3))\n",
        "model.add(Dense(512, activation='relu'))\n",
        "model.add(Dropout(0.3))\n",
        "\n",
        "\n",
        "\n",
        "\n",
        "# Output layer\n",
        "model.add(Dense(7, activation='softmax'))"
      ],
      "execution_count": null,
      "outputs": []
    },
    {
      "cell_type": "code",
      "metadata": {
        "id": "u0LkHheeoMvj",
        "colab_type": "code",
        "colab": {}
      },
      "source": [
        "model.compile(loss = categorical_crossentropy,\n",
        "              optimizer = Adam(lr=0.0001, decay=1e-6),\n",
        "              metrics = ['accuracy'])"
      ],
      "execution_count": null,
      "outputs": []
    },
    {
      "cell_type": "code",
      "metadata": {
        "id": "OmcQDzgYo2LW",
        "colab_type": "code",
        "colab": {
          "base_uri": "https://localhost:8080/",
          "height": 1000
        },
        "outputId": "1aedda01-0503-4b18-d4ba-b35d39c3fb0d"
      },
      "source": [
        "#Training the model\n",
        "history = model.fit(train_images, train_labels,\n",
        "                    batch_size=64,\n",
        "                    epochs=60,\n",
        "                    verbose=1,\n",
        "                    validation_data=(val_images, val_labels),\n",
        "                    shuffle=True)"
      ],
      "execution_count": null,
      "outputs": [
        {
          "output_type": "stream",
          "text": [
            "Epoch 1/60\n",
            "449/449 [==============================] - 26s 59ms/step - loss: 2.0145 - accuracy: 0.2277 - val_loss: 1.9079 - val_accuracy: 0.2449\n",
            "Epoch 2/60\n",
            "449/449 [==============================] - 26s 58ms/step - loss: 1.7619 - accuracy: 0.2920 - val_loss: 1.7342 - val_accuracy: 0.3160\n",
            "Epoch 3/60\n",
            "449/449 [==============================] - 26s 58ms/step - loss: 1.6426 - accuracy: 0.3494 - val_loss: 1.5970 - val_accuracy: 0.3848\n",
            "Epoch 4/60\n",
            "449/449 [==============================] - 26s 58ms/step - loss: 1.5616 - accuracy: 0.3921 - val_loss: 1.6658 - val_accuracy: 0.3920\n",
            "Epoch 5/60\n",
            "449/449 [==============================] - 26s 58ms/step - loss: 1.5026 - accuracy: 0.4142 - val_loss: 1.4033 - val_accuracy: 0.4609\n",
            "Epoch 6/60\n",
            "449/449 [==============================] - 26s 58ms/step - loss: 1.4528 - accuracy: 0.4361 - val_loss: 1.4068 - val_accuracy: 0.4620\n",
            "Epoch 7/60\n",
            "449/449 [==============================] - 26s 58ms/step - loss: 1.4056 - accuracy: 0.4569 - val_loss: 1.3088 - val_accuracy: 0.4974\n",
            "Epoch 8/60\n",
            "449/449 [==============================] - 26s 58ms/step - loss: 1.3627 - accuracy: 0.4736 - val_loss: 1.3793 - val_accuracy: 0.4734\n",
            "Epoch 9/60\n",
            "449/449 [==============================] - 26s 58ms/step - loss: 1.3219 - accuracy: 0.4918 - val_loss: 1.2430 - val_accuracy: 0.5233\n",
            "Epoch 10/60\n",
            "449/449 [==============================] - 26s 58ms/step - loss: 1.2832 - accuracy: 0.5064 - val_loss: 1.2338 - val_accuracy: 0.5269\n",
            "Epoch 11/60\n",
            "449/449 [==============================] - 26s 58ms/step - loss: 1.2471 - accuracy: 0.5226 - val_loss: 1.1734 - val_accuracy: 0.5469\n",
            "Epoch 12/60\n",
            "449/449 [==============================] - 26s 58ms/step - loss: 1.2182 - accuracy: 0.5332 - val_loss: 1.1593 - val_accuracy: 0.5559\n",
            "Epoch 13/60\n",
            "449/449 [==============================] - 26s 58ms/step - loss: 1.1916 - accuracy: 0.5452 - val_loss: 1.1371 - val_accuracy: 0.5662\n",
            "Epoch 14/60\n",
            "449/449 [==============================] - 26s 58ms/step - loss: 1.1620 - accuracy: 0.5590 - val_loss: 1.1309 - val_accuracy: 0.5729\n",
            "Epoch 15/60\n",
            "449/449 [==============================] - 26s 58ms/step - loss: 1.1342 - accuracy: 0.5683 - val_loss: 1.1494 - val_accuracy: 0.5631\n",
            "Epoch 16/60\n",
            "449/449 [==============================] - 26s 58ms/step - loss: 1.1103 - accuracy: 0.5748 - val_loss: 1.1157 - val_accuracy: 0.5812\n",
            "Epoch 17/60\n",
            "449/449 [==============================] - 26s 58ms/step - loss: 1.0836 - accuracy: 0.5925 - val_loss: 1.0865 - val_accuracy: 0.5926\n",
            "Epoch 18/60\n",
            "449/449 [==============================] - 26s 58ms/step - loss: 1.0665 - accuracy: 0.5931 - val_loss: 1.0772 - val_accuracy: 0.5974\n",
            "Epoch 19/60\n",
            "449/449 [==============================] - 26s 58ms/step - loss: 1.0405 - accuracy: 0.6028 - val_loss: 1.0624 - val_accuracy: 0.6018\n",
            "Epoch 20/60\n",
            "449/449 [==============================] - 26s 58ms/step - loss: 1.0159 - accuracy: 0.6112 - val_loss: 1.0781 - val_accuracy: 0.5907\n",
            "Epoch 21/60\n",
            "449/449 [==============================] - 26s 58ms/step - loss: 0.9961 - accuracy: 0.6222 - val_loss: 1.0947 - val_accuracy: 0.5840\n",
            "Epoch 22/60\n",
            "449/449 [==============================] - 26s 58ms/step - loss: 0.9756 - accuracy: 0.6307 - val_loss: 1.0414 - val_accuracy: 0.6110\n",
            "Epoch 23/60\n",
            "449/449 [==============================] - 26s 59ms/step - loss: 0.9448 - accuracy: 0.6426 - val_loss: 1.0245 - val_accuracy: 0.6225\n",
            "Epoch 24/60\n",
            "449/449 [==============================] - 26s 58ms/step - loss: 0.9249 - accuracy: 0.6470 - val_loss: 1.0400 - val_accuracy: 0.6250\n",
            "Epoch 25/60\n",
            "449/449 [==============================] - 26s 58ms/step - loss: 0.9086 - accuracy: 0.6576 - val_loss: 1.0283 - val_accuracy: 0.6144\n",
            "Epoch 26/60\n",
            "449/449 [==============================] - 26s 58ms/step - loss: 0.8898 - accuracy: 0.6653 - val_loss: 1.0306 - val_accuracy: 0.6183\n",
            "Epoch 27/60\n",
            "449/449 [==============================] - 26s 58ms/step - loss: 0.8694 - accuracy: 0.6732 - val_loss: 1.0305 - val_accuracy: 0.6236\n",
            "Epoch 28/60\n",
            "449/449 [==============================] - 26s 58ms/step - loss: 0.8460 - accuracy: 0.6821 - val_loss: 1.0131 - val_accuracy: 0.6330\n",
            "Epoch 29/60\n",
            "449/449 [==============================] - 26s 58ms/step - loss: 0.8204 - accuracy: 0.6899 - val_loss: 1.0159 - val_accuracy: 0.6264\n",
            "Epoch 30/60\n",
            "449/449 [==============================] - 26s 58ms/step - loss: 0.8042 - accuracy: 0.6969 - val_loss: 1.0514 - val_accuracy: 0.6166\n",
            "Epoch 31/60\n",
            "449/449 [==============================] - 26s 58ms/step - loss: 0.7832 - accuracy: 0.7048 - val_loss: 1.0476 - val_accuracy: 0.6322\n",
            "Epoch 32/60\n",
            "449/449 [==============================] - 26s 58ms/step - loss: 0.7603 - accuracy: 0.7158 - val_loss: 1.0461 - val_accuracy: 0.6291\n",
            "Epoch 33/60\n",
            "449/449 [==============================] - 26s 58ms/step - loss: 0.7411 - accuracy: 0.7212 - val_loss: 1.0570 - val_accuracy: 0.6283\n",
            "Epoch 34/60\n",
            "449/449 [==============================] - 26s 58ms/step - loss: 0.7211 - accuracy: 0.7306 - val_loss: 1.0366 - val_accuracy: 0.6378\n",
            "Epoch 35/60\n",
            "449/449 [==============================] - 26s 58ms/step - loss: 0.6994 - accuracy: 0.7388 - val_loss: 1.0287 - val_accuracy: 0.6434\n",
            "Epoch 36/60\n",
            "449/449 [==============================] - 26s 58ms/step - loss: 0.6801 - accuracy: 0.7482 - val_loss: 1.0813 - val_accuracy: 0.6266\n",
            "Epoch 37/60\n",
            "449/449 [==============================] - 26s 57ms/step - loss: 0.6596 - accuracy: 0.7515 - val_loss: 1.0668 - val_accuracy: 0.6383\n",
            "Epoch 38/60\n",
            "449/449 [==============================] - 26s 58ms/step - loss: 0.6338 - accuracy: 0.7631 - val_loss: 1.0653 - val_accuracy: 0.6286\n",
            "Epoch 39/60\n",
            "449/449 [==============================] - 26s 58ms/step - loss: 0.6187 - accuracy: 0.7691 - val_loss: 1.0653 - val_accuracy: 0.6372\n",
            "Epoch 40/60\n",
            "449/449 [==============================] - 26s 58ms/step - loss: 0.5974 - accuracy: 0.7784 - val_loss: 1.0742 - val_accuracy: 0.6414\n",
            "Epoch 41/60\n",
            "449/449 [==============================] - 26s 58ms/step - loss: 0.5922 - accuracy: 0.7783 - val_loss: 1.0773 - val_accuracy: 0.6428\n",
            "Epoch 42/60\n",
            "449/449 [==============================] - 26s 58ms/step - loss: 0.5667 - accuracy: 0.7885 - val_loss: 1.0860 - val_accuracy: 0.6406\n",
            "Epoch 43/60\n",
            "449/449 [==============================] - 26s 58ms/step - loss: 0.5441 - accuracy: 0.7965 - val_loss: 1.1186 - val_accuracy: 0.6369\n",
            "Epoch 44/60\n",
            "449/449 [==============================] - 26s 58ms/step - loss: 0.5267 - accuracy: 0.8019 - val_loss: 1.1317 - val_accuracy: 0.6459\n",
            "Epoch 45/60\n",
            "449/449 [==============================] - 26s 58ms/step - loss: 0.5139 - accuracy: 0.8073 - val_loss: 1.1146 - val_accuracy: 0.6478\n",
            "Epoch 46/60\n",
            "449/449 [==============================] - 26s 58ms/step - loss: 0.5029 - accuracy: 0.8120 - val_loss: 1.1496 - val_accuracy: 0.6464\n",
            "Epoch 47/60\n",
            "449/449 [==============================] - 26s 58ms/step - loss: 0.4846 - accuracy: 0.8205 - val_loss: 1.1651 - val_accuracy: 0.6425\n",
            "Epoch 48/60\n",
            "449/449 [==============================] - 26s 58ms/step - loss: 0.4728 - accuracy: 0.8257 - val_loss: 1.1950 - val_accuracy: 0.6420\n",
            "Epoch 49/60\n",
            "449/449 [==============================] - 26s 58ms/step - loss: 0.4610 - accuracy: 0.8276 - val_loss: 1.1930 - val_accuracy: 0.6431\n",
            "Epoch 50/60\n",
            "449/449 [==============================] - 26s 58ms/step - loss: 0.4408 - accuracy: 0.8366 - val_loss: 1.2482 - val_accuracy: 0.6322\n",
            "Epoch 51/60\n",
            "449/449 [==============================] - 26s 58ms/step - loss: 0.4240 - accuracy: 0.8429 - val_loss: 1.2117 - val_accuracy: 0.6397\n",
            "Epoch 52/60\n",
            "449/449 [==============================] - 26s 58ms/step - loss: 0.4110 - accuracy: 0.8477 - val_loss: 1.2283 - val_accuracy: 0.6417\n",
            "Epoch 53/60\n",
            "449/449 [==============================] - 26s 58ms/step - loss: 0.3944 - accuracy: 0.8527 - val_loss: 1.2466 - val_accuracy: 0.6456\n",
            "Epoch 54/60\n",
            "449/449 [==============================] - 26s 58ms/step - loss: 0.3951 - accuracy: 0.8548 - val_loss: 1.2771 - val_accuracy: 0.6386\n",
            "Epoch 55/60\n",
            "449/449 [==============================] - 26s 58ms/step - loss: 0.3748 - accuracy: 0.8641 - val_loss: 1.2638 - val_accuracy: 0.6445\n",
            "Epoch 56/60\n",
            "449/449 [==============================] - 26s 58ms/step - loss: 0.3683 - accuracy: 0.8642 - val_loss: 1.2955 - val_accuracy: 0.6411\n",
            "Epoch 57/60\n",
            "449/449 [==============================] - 26s 58ms/step - loss: 0.3597 - accuracy: 0.8681 - val_loss: 1.3090 - val_accuracy: 0.6417\n",
            "Epoch 58/60\n",
            "449/449 [==============================] - 26s 58ms/step - loss: 0.3442 - accuracy: 0.8743 - val_loss: 1.3493 - val_accuracy: 0.6328\n",
            "Epoch 59/60\n",
            "449/449 [==============================] - 26s 58ms/step - loss: 0.3381 - accuracy: 0.8759 - val_loss: 1.3293 - val_accuracy: 0.6414\n",
            "Epoch 60/60\n",
            "449/449 [==============================] - 26s 58ms/step - loss: 0.3225 - accuracy: 0.8828 - val_loss: 1.3719 - val_accuracy: 0.6411\n"
          ],
          "name": "stdout"
        }
      ]
    },
    {
      "cell_type": "code",
      "metadata": {
        "id": "9eXwK3PVxCIR",
        "colab_type": "code",
        "colab": {
          "base_uri": "https://localhost:8080/",
          "height": 295
        },
        "outputId": "225e5ebb-21bb-452c-d989-7ed03b7b0caf"
      },
      "source": [
        "history_dict = history.history\n",
        "acc = history_dict['accuracy']\n",
        "val_acc = history_dict['val_accuracy']\n",
        "\n",
        "epochs = range(1, len(acc) + 1)\n",
        "\n",
        "plt.plot(epochs, acc, label='Training Accuracy')\n",
        "plt.plot(epochs, val_acc, label='Validation Accuracy')\n",
        "plt.title('Training vs Validation Accuracy')\n",
        "plt.xlabel('Epochs')\n",
        "plt.ylabel('Accuracy')\n",
        "plt.legend()\n",
        "\n",
        "plt.show()"
      ],
      "execution_count": null,
      "outputs": [
        {
          "output_type": "display_data",
          "data": {
            "image/png": "[encoded data removed]",
            "text/plain": [
              "<Figure size 432x288 with 1 Axes>"
            ]
          },
          "metadata": {
            "tags": [],
            "needs_background": "light"
          }
        }
      ]
    },
    {
      "cell_type": "code",
      "metadata": {
        "id": "V26UBRuy7kuA",
        "colab_type": "code",
        "colab": {
          "base_uri": "https://localhost:8080/",
          "height": 34
        },
        "outputId": "7713c1ea-d889-4e8e-afb6-4f85ef7f0fc3"
      },
      "source": [
        "model.evaluate(test_images, test_labels)"
      ],
      "execution_count": null,
      "outputs": [
        {
          "output_type": "stream",
          "text": [
            "113/113 [==============================] - 1s 12ms/step - loss: 1.4223 - accuracy: 0.6297\n"
          ],
          "name": "stdout"
        }
      ]
    },
    {
      "cell_type": "code",
      "metadata": {
        "id": "C34oGBpiebhg",
        "colab_type": "code",
        "colab": {}
      },
      "source": [
        "pred = model.predict(test_images)"
      ],
      "execution_count": null,
      "outputs": []
    },
    {
      "cell_type": "code",
      "metadata": {
        "id": "G30fA8o-eXHL",
        "colab_type": "code",
        "colab": {
          "base_uri": "https://localhost:8080/",
          "height": 34
        },
        "outputId": "4acfd595-006b-4923-ff0e-28de73dd6e8a"
      },
      "source": [
        "np.argmax(test_labels, axis=1)"
      ],
      "execution_count": null,
      "outputs": [
        {
          "output_type": "execute_result",
          "data": {
            "text/plain": [
              "array([0, 1, 4, ..., 4, 4, 4])"
            ]
          },
          "metadata": {
            "tags": []
          },
          "execution_count": 77
        }
      ]
    },
    {
      "cell_type": "code",
      "metadata": {
        "id": "jczF5rvXeBEm",
        "colab_type": "code",
        "colab": {
          "base_uri": "https://localhost:8080/",
          "height": 255
        },
        "outputId": "f7ed0522-84c3-43c6-da6b-f59114e9ee5c"
      },
      "source": [
        "from sklearn import metrics\n",
        "report = metrics.classification_report(np.argmax(test_labels,axis=1), np.argmax(pred,axis=1), target_names=emotions)\n",
        "print(report)  "
      ],
      "execution_count": null,
      "outputs": [
        {
          "output_type": "stream",
          "text": [
            "              precision    recall  f1-score   support\n",
            "\n",
            "       Angry       0.51      0.56      0.53       467\n",
            "     Disgust       0.76      0.52      0.62        56\n",
            "        Fear       0.49      0.42      0.45       496\n",
            "       Happy       0.83      0.84      0.83       895\n",
            "         Sad       0.50      0.54      0.52       653\n",
            "    Surprise       0.77      0.80      0.79       415\n",
            "     Neutral       0.57      0.54      0.55       607\n",
            "\n",
            "    accuracy                           0.63      3589\n",
            "   macro avg       0.63      0.60      0.61      3589\n",
            "weighted avg       0.63      0.63      0.63      3589\n",
            "\n"
          ],
          "name": "stdout"
        }
      ]
    },
    {
      "cell_type": "code",
      "metadata": {
        "id": "qX4LEJ0_tk7T",
        "colab_type": "code",
        "colab": {}
      },
      "source": [
        "fer_json = model.to_json()\n",
        "with open(\"fer.json\", \"w\") as json_file:\n",
        "    json_file.write(fer_json)\n",
        "model.save_weights(\"fer.h5\")"
      ],
      "execution_count": null,
      "outputs": []
    }
  ]
}